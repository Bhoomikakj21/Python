{
 "cells": [
  {
   "cell_type": "code",
   "execution_count": 10,
   "id": "6a96c4dc-3795-48c6-99c2-9cbc20dccd22",
   "metadata": {},
   "outputs": [],
   "source": [
    "import math\n",
    "\n",
    "# calculate Euler's totient function phi(n)\n",
    "def euler_totient(n):\n",
    "    count = 0\n",
    "    for i in range(1, n):\n",
    "        if math.gcd(i, n) == 1:\n",
    "            count += 1\n",
    "    return count\n",
    "\n",
    "# modular exponentiation\n",
    "def mod_pow(a, b, mod):\n",
    "    result = 1\n",
    "    a = a % mod\n",
    "    while b > 0:\n",
    "        if b % 2 == 1:\n",
    "            result = (result * a) % mod\n",
    "        a = (a * a) % mod\n",
    "        b = b // 2\n",
    "    return result\n"
   ]
  },
  {
   "cell_type": "code",
   "execution_count": 18,
   "id": "6619666e-229a-4cc5-b8c6-d228a8b954e1",
   "metadata": {},
   "outputs": [
    {
     "name": "stdout",
     "output_type": "stream",
     "text": [
      "7^4 mod 10 = 1\n",
      "According to Euler’s theorem, it should be 1.\n"
     ]
    }
   ],
   "source": [
    "# check Euler's theorem\n",
    "def test_euler_theorem(a, n):\n",
    "    if math.gcd(a, n) != 1:\n",
    "        print(\"a and n are not coprime, theorem doesn't apply.\")\n",
    "        return\n",
    "\n",
    "    phi_n = euler_totient(n)\n",
    "    lhs = mod_pow(a, phi_n, n)\n",
    "\n",
    "    print(f\"{a}^{phi_n} mod {n} = {lhs}\")\n",
    "    print(\"According to Euler’s theorem, it should be 1.\" if lhs == 1 else \"Oops, something’s off.\")\n",
    "\n",
    "test_euler_theorem(7, 10)"
   ]
  },
  {
   "cell_type": "markdown",
   "id": "82e693b4-181f-4adf-8ea3-3425ebaf042f",
   "metadata": {},
   "source": [
    "Modular Inverse (when mod is not prime)"
   ]
  },
  {
   "cell_type": "code",
   "execution_count": 21,
   "id": "1ddc0b9d-7796-4042-b549-f2cd2f9c5437",
   "metadata": {},
   "outputs": [
    {
     "name": "stdout",
     "output_type": "stream",
     "text": [
      "The modular inverse of 3 mod 10 is: 7\n"
     ]
    }
   ],
   "source": [
    "def mod_inverse(a, n):\n",
    "    if math.gcd(a, n) != 1:\n",
    "        return None  # inverse doesn't exist\n",
    "    phi_n = euler_totient(n)\n",
    "    return mod_pow(a, phi_n - 1, n)\n",
    "\n",
    "# Example\n",
    "a, n = 3, 10\n",
    "inverse = mod_inverse(a, n)\n",
    "print(f\"The modular inverse of {a} mod {n} is:\", inverse)"
   ]
  },
  {
   "cell_type": "markdown",
   "id": "8f49adb7-0dfd-409b-9553-5ba76c4b4a7a",
   "metadata": {},
   "source": [
    "Reducing Large Powers in Modulo"
   ]
  },
  {
   "cell_type": "code",
   "execution_count": 24,
   "id": "115262d9-e7b2-4177-be9c-2e76a51b98d7",
   "metadata": {},
   "outputs": [
    {
     "name": "stdout",
     "output_type": "stream",
     "text": [
      "7^123456789 mod 10 = 7\n"
     ]
    }
   ],
   "source": [
    "def large_mod_exp(a, b, n):\n",
    "    if math.gcd(a, n) != 1:\n",
    "        return mod_pow(a, b, n)  # Can't reduce\n",
    "    phi_n = euler_totient(n)\n",
    "    reduced_b = b % phi_n\n",
    "    return mod_pow(a, reduced_b, n)\n",
    "\n",
    "# Example\n",
    "a, b, n = 7, 123456789, 10\n",
    "result = large_mod_exp(a, b, n)\n",
    "print(f\"{a}^{b} mod {n} = {result}\")\n"
   ]
  },
  {
   "cell_type": "markdown",
   "id": "1aeb16f6-305e-46f1-9d27-4dd5230cd511",
   "metadata": {},
   "source": [
    "RSA-like Encryption/Decryption"
   ]
  },
  {
   "cell_type": "code",
   "execution_count": 29,
   "id": "19ca74b0-1947-4af5-87d5-c454619b6ce1",
   "metadata": {},
   "outputs": [
    {
     "name": "stdout",
     "output_type": "stream",
     "text": [
      "Original message: 7\n",
      "Encrypted: 13\n",
      "Decrypted: 7\n"
     ]
    }
   ],
   "source": [
    "# RSA-like demo using small primes\n",
    "p, q = 5, 11\n",
    "N = p * q\n",
    "phi_N = (p - 1) * (q - 1)\n",
    "\n",
    "e = 3  # Public key exponent ( coprime to phi)\n",
    "d = mod_inverse(e, phi_N)  # Private key exponent\n",
    "\n",
    "message = 7\n",
    "cipher = mod_pow(message, e, N)\n",
    "decrypted = mod_pow(cipher, d, N)\n",
    "\n",
    "print(f\"Original message: {message}\")\n",
    "print(f\"Encrypted: {cipher}\")\n",
    "print(f\"Decrypted: {decrypted}\")\n"
   ]
  },
  {
   "cell_type": "code",
   "execution_count": null,
   "id": "651571ab-a202-454d-b977-897e5fbb5fac",
   "metadata": {},
   "outputs": [],
   "source": []
  }
 ],
 "metadata": {
  "kernelspec": {
   "display_name": "Python [conda env:base] *",
   "language": "python",
   "name": "conda-base-py"
  },
  "language_info": {
   "codemirror_mode": {
    "name": "ipython",
    "version": 3
   },
   "file_extension": ".py",
   "mimetype": "text/x-python",
   "name": "python",
   "nbconvert_exporter": "python",
   "pygments_lexer": "ipython3",
   "version": "3.12.7"
  }
 },
 "nbformat": 4,
 "nbformat_minor": 5
}
