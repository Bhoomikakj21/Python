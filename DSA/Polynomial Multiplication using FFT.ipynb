{
 "cells": [
  {
   "cell_type": "markdown",
   "id": "77c93c5e-b808-434e-812f-7e50bab17361",
   "metadata": {},
   "source": [
    "So basically in this code, we are multiplying two polynomials using Fast Fourier Transform (FFT). Normally if you just multiply polynomials term-by-term, it takes a lot of time like O(n^2). But FFT lets us do it super fast in O(nlogn)"
   ]
  },
  {
   "cell_type": "markdown",
   "id": "3160ebb3-43d4-402b-9fb6-c3b9d8683e15",
   "metadata": {},
   "source": [
    "1.First, we pad the polynomials with zeros so they become the right size (IN FFT we take a power of 2).\n",
    "\n",
    "2.Then we use FFT to convert the polynomials from coefficient form into frequency form (like how signals are transformed).\n",
    "\n",
    "3.Once both are in frequency domain, we just multiply point by point — it's way faster than distributing terms manually.\n",
    "\n",
    "4.After that, we use inverse FFT to convert it back to normal polynomial (time domain).\n",
    "\n",
    "5.Finally, we round the results because FFT gives some tiny floating point errors."
   ]
  },
  {
   "cell_type": "code",
   "execution_count": 22,
   "id": "d5f5a840-7a04-45d8-8e76-a4e7bbcdf39e",
   "metadata": {},
   "outputs": [],
   "source": [
    "import numpy as np"
   ]
  },
  {
   "cell_type": "code",
   "execution_count": 24,
   "id": "6f8e2c86-9e84-46fd-91d5-72686bca6d98",
   "metadata": {},
   "outputs": [],
   "source": [
    "\n",
    "# so like this function gives next power of 2 which is ≥ x\n",
    "def next_power_of_two(x):\n",
    "    n = 1\n",
    "    while n < x:\n",
    "        n *= 2  # keep doubling until we pass x\n",
    "    return n\n",
    "\n",
    "# here we are just adding zeros at the end to make both lists same size\n",
    "def pad_poly(poly, target_length):\n",
    "    return poly + [0] * (target_length - len(poly))\n",
    "\n",
    "# this is the fft function we use to go from time domain to frequency domain\n",
    "def recursive_fft(sequence):\n",
    "    n = len(sequence)\n",
    "    if n == 1:\n",
    "        return sequence  # nothing to do for 1 element\n",
    "\n",
    "    # splitting into even and odd index elements\n",
    "    even = recursive_fft(sequence[0::2])\n",
    "    odd = recursive_fft(sequence[1::2])\n",
    "\n",
    "    # combine the results from both halves\n",
    "    result = [0] * n\n",
    "    for k in range(n // 2):\n",
    "        angle = -2 * np.pi * k / n\n",
    "        w = np.exp(1j * angle)  # this is like rotation factor\n",
    "        result[k] = even[k] + w * odd[k]\n",
    "        result[k + n // 2] = even[k] - w * odd[k]\n",
    "\n",
    "    return result\n",
    "\n",
    "# ok now inverse of fft – we flip signs, fft it again, and divide\n",
    "def recursive_ifft(sequence):\n",
    "    n = len(sequence)\n",
    "    # conjugate all values first\n",
    "    conj_seq = [np.conj(x) for x in sequence]\n",
    "    fft_res = recursive_fft(conj_seq)\n",
    "    # now conjugate again and divide by n to finish the inverse\n",
    "    return [np.conj(x) / n for x in fft_res]\n",
    "\n",
    "# here’s the main function where the actual poly multiplication happens\n",
    "def multiply_polynomials_fft(p1, p2):\n",
    "    degree = max(len(p1), len(p2)) - 1\n",
    "    total_degree = 2 * degree  # coz when we multiply two degree d polynomials, degree becomes 2d\n",
    "    n = next_power_of_two(total_degree + 1)  # we need size to be power of 2 ≥ 2d + 1\n",
    "\n",
    "    # pad both polys so they are of same size and size is power of 2\n",
    "    p1_padded = pad_poly(p1, n)\n",
    "    p2_padded = pad_poly(p2, n)\n",
    "\n",
    "    # convert to complex numbers, coz fft needs that\n",
    "    p1_complex = [complex(x) for x in p1_padded]\n",
    "    p2_complex = [complex(x) for x in p2_padded]\n",
    "\n",
    "    # now fft both polynomials\n",
    "    fft_p1 = recursive_fft(p1_complex)\n",
    "    fft_p2 = recursive_fft(p2_complex)\n",
    "\n",
    "    # multiply each value pointwise in freq domain\n",
    "    fft_result = [fft_p1[i] * fft_p2[i] for i in range(n)]\n",
    "\n",
    "    # now bring it back to time domain\n",
    "    result_coeffs_complex = recursive_ifft(fft_result)\n",
    "\n",
    "    # round off all the real parts to nearest integer\n",
    "    result_coeffs = [round(x.real) for x in result_coeffs_complex[:total_degree + 1]]\n",
    "\n",
    "    return result_coeffs\n"
   ]
  },
  {
   "cell_type": "code",
   "execution_count": 26,
   "id": "cc56beb4-76b2-4b60-a563-829a07421794",
   "metadata": {},
   "outputs": [
    {
     "name": "stdout",
     "output_type": "stream",
     "text": [
      "Product Coefficients: [4, 13, 28, 27, 18]\n"
     ]
    }
   ],
   "source": [
    "poly1 = [1, 2, 3]  # this means 1 + 2x + 3x^2\n",
    "poly2 = [4, 5, 6]  # this means 4 + 5x + 6x^2\n",
    "\n",
    "# so now we call our function and print result\n",
    "product = multiply_polynomials_fft(poly1, poly2)\n",
    "print(\"Product Coefficients:\", product)\n",
    "# Output should be [4, 13, 28, 27, 18]"
   ]
  },
  {
   "cell_type": "code",
   "execution_count": null,
   "id": "c1864763-4c1b-435e-a8d1-3d4580171e3a",
   "metadata": {},
   "outputs": [],
   "source": []
  }
 ],
 "metadata": {
  "kernelspec": {
   "display_name": "Python [conda env:base] *",
   "language": "python",
   "name": "conda-base-py"
  },
  "language_info": {
   "codemirror_mode": {
    "name": "ipython",
    "version": 3
   },
   "file_extension": ".py",
   "mimetype": "text/x-python",
   "name": "python",
   "nbconvert_exporter": "python",
   "pygments_lexer": "ipython3",
   "version": "3.12.7"
  }
 },
 "nbformat": 4,
 "nbformat_minor": 5
}
