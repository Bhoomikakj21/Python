{
 "cells": [
  {
   "cell_type": "code",
   "execution_count": 1,
   "metadata": {},
   "outputs": [
    {
     "name": "stdout",
     "output_type": "stream",
     "text": [
      "10\n",
      "start is: 20\n",
      "Queue is: 20 30 \n"
     ]
    }
   ],
   "source": [
    "class QueuWithArray():\n",
    "    def __init__(self,size):\n",
    "        self.size = size\n",
    "        self.array = [None]*size\n",
    "        self.end = -1\n",
    "        self.start = -1\n",
    "        self.csize = 0\n",
    "\n",
    "    def push(self,data):\n",
    "        if self.size == self.csize:\n",
    "            print('Queu is full')\n",
    "            return\n",
    "        \n",
    "        if self.start ==-1:\n",
    "            self.start = 0\n",
    "        \n",
    "        self.end = (self.end+1)% self.size\n",
    "        self.array[self.end]= data\n",
    "        self.csize+=1\n",
    "\n",
    "    def pop(self):\n",
    "        if self.csize == 0:\n",
    "            return print('empty array')\n",
    "        a = self.array[self.start]\n",
    "        if self.csize == 1:\n",
    "            self.start = -1\n",
    "            self.end = -1\n",
    "        \n",
    "        self.csize-=1\n",
    "        self.start = (self.start+1)%self.size\n",
    "        return a\n",
    "\n",
    "    def peek(self):\n",
    "        if self.csize == 0:\n",
    "            return print('empty array')\n",
    "        print('start is:',self.array[self.start])\n",
    "\n",
    "\n",
    "    def display(self):\n",
    "        if self.csize == 0:\n",
    "            print(\"Queue is empty\")\n",
    "            return\n",
    "\n",
    "        print(\"Queue is:\", end=\" \")\n",
    "        idx = self.start\n",
    "        for _ in range(self.csize):\n",
    "            print(self.array[idx], end=\" \")\n",
    "            idx = (idx + 1) % self.size\n",
    "        print()\n",
    "    \n",
    "\n",
    "q = QueuWithArray(4)\n",
    "q.push(10)\n",
    "q.push(20)\n",
    "q.push(30)\n",
    "print(q.pop())\n",
    "q.peek()\n",
    "q.display()\n",
    "    \n"
   ]
  }
 ],
 "metadata": {
  "kernelspec": {
   "display_name": "Python 3",
   "language": "python",
   "name": "python3"
  },
  "language_info": {
   "codemirror_mode": {
    "name": "ipython",
    "version": 3
   },
   "file_extension": ".py",
   "mimetype": "text/x-python",
   "name": "python",
   "nbconvert_exporter": "python",
   "pygments_lexer": "ipython3",
   "version": "3.13.0"
  }
 },
 "nbformat": 4,
 "nbformat_minor": 2
}
