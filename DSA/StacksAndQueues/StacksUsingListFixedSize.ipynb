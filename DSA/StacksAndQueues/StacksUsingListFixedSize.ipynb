{
 "cells": [
  {
   "cell_type": "code",
   "execution_count": 26,
   "metadata": {},
   "outputs": [
    {
     "name": "stdout",
     "output_type": "stream",
     "text": [
      "[10, 30, 40, 50]\n",
      "50\n",
      "40\n",
      "3\n",
      "[10, 30, 40]\n"
     ]
    }
   ],
   "source": [
    "class stackwitharray():\n",
    "    def __init__(self,capacity):\n",
    "        self.capacity = capacity\n",
    "        self.stack = [None]*capacity\n",
    "        self.top =  -1\n",
    "\n",
    "    def push(self,data):\n",
    "        if self.top == self.capacity-1:\n",
    "            print(\"stack is overloaded\")\n",
    "            return \n",
    "        self.top+=1\n",
    "        self.stack[self.top] = data\n",
    "    \n",
    "    def pop(self):\n",
    "        if self.top == -1:\n",
    "            print('stack is empty')\n",
    "            return\n",
    "        a = self.stack[self.top]\n",
    "        self.top -=1\n",
    "        return a\n",
    "\n",
    "    def seek(self):\n",
    "        if self.top == -1:\n",
    "            print('stack is empty')\n",
    "            return\n",
    "        return self.stack[self.top]\n",
    "    \n",
    "    def size(self):\n",
    "        if self.top == -1:\n",
    "            print('stack is empty')\n",
    "            return\n",
    "        return self.top+1\n",
    "        \n",
    "    \n",
    "    def display(self):\n",
    "        if self.top == -1:\n",
    "            print('stack is empty')\n",
    "        else:\n",
    "            print(self.stack[:self.top+1])\n",
    "    \n",
    "s = stackwitharray(10)\n",
    "s.push(10)\n",
    "s.push(30)\n",
    "s.push(40)\n",
    "s.push(50)\n",
    "s.display()\n",
    "print(s.pop())\n",
    "print(s.seek())\n",
    "print(s.size())\n",
    "s.display()\n"
   ]
  }
 ],
 "metadata": {
  "kernelspec": {
   "display_name": "Python 3",
   "language": "python",
   "name": "python3"
  },
  "language_info": {
   "codemirror_mode": {
    "name": "ipython",
    "version": 3
   },
   "file_extension": ".py",
   "mimetype": "text/x-python",
   "name": "python",
   "nbconvert_exporter": "python",
   "pygments_lexer": "ipython3",
   "version": "3.13.0"
  }
 },
 "nbformat": 4,
 "nbformat_minor": 2
}
