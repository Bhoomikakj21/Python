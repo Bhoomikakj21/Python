{
 "cells": [
  {
   "cell_type": "markdown",
   "id": "4e809dc3-a45e-4a92-8d0e-2e497c25dd33",
   "metadata": {},
   "source": [
    "Step 1: Count character frequencies in the input string manually.\n",
    "\n",
    "Step 2: Create a node for each character with its frequency.\n",
    "\n",
    "Step 3: Build a min-heap by sorting nodes in increasing order of frequency.\n",
    "\n",
    "Step 4: Construct the Huffman Tree by repeatedly merging the two lowest-frequency nodes.\n",
    "\n",
    "Step 5: Traverse the tree to assign binary codes (left = 0, right = 1) to each character.\n",
    "\n",
    "Step 6: Encode the input string by replacing each character with its Huffman code."
   ]
  },
  {
   "cell_type": "code",
   "execution_count": 35,
   "id": "a89d7bbe-d10f-4ceb-939e-c920713e0ef0",
   "metadata": {},
   "outputs": [],
   "source": [
    "class Node:\n",
    "    def __init__(self, char=None, freq=0):\n",
    "        self.char = char\n",
    "        self.freq = freq\n",
    "        self.left = None\n",
    "        self.right = None\n",
    "\n",
    "    def __lt__(self, other):\n",
    "        return self.freq < other.freq"
   ]
  },
  {
   "cell_type": "code",
   "execution_count": 37,
   "id": "d3098cb4-8bed-4258-a0a8-0dd74b91b630",
   "metadata": {},
   "outputs": [],
   "source": [
    "def get_frequencies(text):\n",
    "    freq = {}\n",
    "    for ch in text:\n",
    "        if ch not in freq:\n",
    "            freq[ch] = 0\n",
    "        freq[ch] += 1\n",
    "    return freq"
   ]
  },
  {
   "cell_type": "code",
   "execution_count": 39,
   "id": "cd192350-35fd-48bd-9890-4d84660a02a3",
   "metadata": {},
   "outputs": [],
   "source": [
    "def build_min_heap(nodes):\n",
    "    # insertion sort based heap\n",
    "    for i in range(len(nodes)):\n",
    "        for j in range(i + 1, len(nodes)):\n",
    "            if nodes[j].freq < nodes[i].freq:\n",
    "                nodes[i], nodes[j] = nodes[j], nodes[i]\n",
    "    return nodes\n"
   ]
  },
  {
   "cell_type": "code",
   "execution_count": 41,
   "id": "f421653b-0cc8-4904-9261-d9b3f512946f",
   "metadata": {},
   "outputs": [],
   "source": [
    "def build_huffman_tree(freq_map):\n",
    "    nodes = [Node(ch, freq) for ch, freq in freq_map.items()]\n",
    "    nodes = build_min_heap(nodes)\n",
    "\n",
    "    while len(nodes) > 1:\n",
    "        # Get two nodes with lowest frequency\n",
    "        left = nodes.pop(0)\n",
    "        right = nodes.pop(0)\n",
    "\n",
    "        merged = Node(None, left.freq + right.freq)\n",
    "        merged.left = left\n",
    "        merged.right = right\n",
    "\n",
    "        # Insert the merged node and sort again\n",
    "        nodes.append(merged)\n",
    "        nodes = build_min_heap(nodes)\n",
    "    # Root of Huffman tree\n",
    "    return nodes[0]  \n"
   ]
  },
  {
   "cell_type": "code",
   "execution_count": 43,
   "id": "f460a0f2-3f20-48cf-a018-d8723684dc26",
   "metadata": {},
   "outputs": [],
   "source": [
    "def generate_codes(node, code=\"\", code_map={}):\n",
    "    if node is None:\n",
    "        return\n",
    "\n",
    "    if node.char is not None:\n",
    "        code_map[node.char] = code\n",
    "        return\n",
    "\n",
    "    generate_codes(node.left, code + \"0\", code_map)\n",
    "    generate_codes(node.right, code + \"1\", code_map)\n",
    "\n",
    "    return code_map"
   ]
  },
  {
   "cell_type": "code",
   "execution_count": 45,
   "id": "bb434d0c-3f30-46ca-83a3-f8fcd55d852c",
   "metadata": {},
   "outputs": [],
   "source": [
    "def encode_text(text, code_map):\n",
    "    encoded = \"\"\n",
    "    for ch in text:\n",
    "        encoded += code_map[ch]\n",
    "    return encoded"
   ]
  },
  {
   "cell_type": "code",
   "execution_count": 49,
   "id": "1db4063b-4b56-435d-a365-2c1bb29ee876",
   "metadata": {},
   "outputs": [
    {
     "name": "stdout",
     "output_type": "stream",
     "text": [
      "Character codes:\n",
      "a: 0\n",
      "c: 10\n",
      "b: 11\n"
     ]
    }
   ],
   "source": [
    "text = \"aaaabbbc\"\n",
    "\n",
    "frequencies = get_frequencies(text)\n",
    "root = build_huffman_tree(frequencies)\n",
    "codes = generate_codes(root)\n",
    "\n",
    "print(\"Character codes:\")\n",
    "for ch, code in codes.items():\n",
    "    print(f\"{ch}: {code}\")"
   ]
  },
  {
   "cell_type": "code",
   "execution_count": 51,
   "id": "d2dfec76-5ddd-4773-b690-b43ca9dfd566",
   "metadata": {},
   "outputs": [
    {
     "name": "stdout",
     "output_type": "stream",
     "text": [
      "\n",
      "Encoded string: 000011111110\n"
     ]
    }
   ],
   "source": [
    "encoded = encode_text(text, codes)\n",
    "print(\"\\nEncoded string:\", encoded)"
   ]
  },
  {
   "cell_type": "code",
   "execution_count": null,
   "id": "af0305c9-4897-4876-af1b-5c3458c949f1",
   "metadata": {},
   "outputs": [],
   "source": []
  }
 ],
 "metadata": {
  "kernelspec": {
   "display_name": "Python [conda env:base] *",
   "language": "python",
   "name": "conda-base-py"
  },
  "language_info": {
   "codemirror_mode": {
    "name": "ipython",
    "version": 3
   },
   "file_extension": ".py",
   "mimetype": "text/x-python",
   "name": "python",
   "nbconvert_exporter": "python",
   "pygments_lexer": "ipython3",
   "version": "3.12.7"
  }
 },
 "nbformat": 4,
 "nbformat_minor": 5
}
