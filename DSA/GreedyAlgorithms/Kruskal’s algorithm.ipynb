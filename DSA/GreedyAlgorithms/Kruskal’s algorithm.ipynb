{
 "cells": [
  {
   "cell_type": "code",
   "execution_count": 10,
   "id": "c420f4c5-6636-4b32-9c0b-b026ab51db1c",
   "metadata": {},
   "outputs": [],
   "source": [
    "class UnionFind:\n",
    "    def __init__(self, nodes):\n",
    "        # Each node is its own parent initially\n",
    "        self.parent = {node: node for node in nodes}\n",
    "        # Rank helps optimize union operation\n",
    "        self.rank = {node: 0 for node in nodes}\n",
    "\n",
    "    def find(self, node):\n",
    "        # Find the root of the node with path compression\n",
    "        if self.parent[node] != node:\n",
    "            self.parent[node] = self.find(self.parent[node])  # Flatten the path\n",
    "        return self.parent[node]\n",
    "\n",
    "    def merge(self, node1, node2):\n",
    "        # Find the roots of both nodes\n",
    "        root1 = self.find(node1)\n",
    "        root2 = self.find(node2)\n",
    "\n",
    "        # If they're already connected, skip to avoid a cycle\n",
    "        if root1 == root2:\n",
    "            return False\n",
    "\n",
    "        # Attach the smaller tree under the larger one\n",
    "        if self.rank[root1] < self.rank[root2]:\n",
    "            self.parent[root1] = root2\n",
    "        elif self.rank[root1] > self.rank[root2]:\n",
    "            self.parent[root2] = root1\n",
    "        else:\n",
    "            # If both have same rank, choose one arbitrarily and increase its rank\n",
    "            self.parent[root2] = root1\n",
    "            self.rank[root1] += 1\n",
    "        return True\n",
    "\n",
    "\n",
    "def kruskal_mst(nodes, edge_list):\n",
    "    # Step 1: Sort all edges based on weight (ascending)\n",
    "    edge_list.sort(key=lambda edge: edge[2])\n",
    "    \n",
    "    # Create a Union-Find structure for managing connected components\n",
    "    uf = UnionFind(nodes)\n",
    "\n",
    "    mst_edges = []   # This will store the MST edges\n",
    "    mst_cost = 0     # Total weight of the MST\n",
    "\n",
    "    # Step 2: Go through each edge (smallest to largest)\n",
    "    for start, end, cost in edge_list:\n",
    "        # Step 3: If the edge connects two different components, add it\n",
    "        if uf.merge(start, end):\n",
    "            mst_edges.append((start, end, cost))\n",
    "            mst_cost += cost\n",
    "            # Optimization: stop if we already have V-1 edges\n",
    "            if len(mst_edges) == len(nodes) - 1:\n",
    "                break\n",
    "\n",
    "    return mst_edges, mst_cost\n",
    "\n"
   ]
  },
  {
   "cell_type": "code",
   "execution_count": 12,
   "id": "59245925-6636-47bf-9510-374eb68b8989",
   "metadata": {},
   "outputs": [
    {
     "name": "stdout",
     "output_type": "stream",
     "text": [
      " Minimum Spanning Tree Edges:\n",
      "A -> B : 1\n",
      "B -> D : 2\n",
      "B -> C : 3\n",
      "6\n"
     ]
    }
   ],
   "source": [
    "# Example usage\n",
    "nodes = ['A', 'B', 'C', 'D']\n",
    "edge_list = [\n",
    "    ('A', 'B', 1),\n",
    "    ('B', 'D', 2),\n",
    "    ('B', 'C', 3),\n",
    "    ('A', 'C', 4)\n",
    "]\n",
    "\n",
    "# Run Kruskal's algorithm\n",
    "mst_result, total_cost = kruskal_mst(nodes, edge_list)\n",
    "\n",
    "# Print results\n",
    "print(\" Minimum Spanning Tree Edges:\")\n",
    "for from_node, to_node, weight in mst_result:\n",
    "    print(f\"{from_node} -> {to_node} : {weight}\")\n",
    "print( total_cost)"
   ]
  },
  {
   "cell_type": "code",
   "execution_count": null,
   "id": "7e02058e-7104-45ed-b7e7-966c6194c6ef",
   "metadata": {},
   "outputs": [],
   "source": []
  }
 ],
 "metadata": {
  "kernelspec": {
   "display_name": "Python [conda env:base] *",
   "language": "python",
   "name": "conda-base-py"
  },
  "language_info": {
   "codemirror_mode": {
    "name": "ipython",
    "version": 3
   },
   "file_extension": ".py",
   "mimetype": "text/x-python",
   "name": "python",
   "nbconvert_exporter": "python",
   "pygments_lexer": "ipython3",
   "version": "3.12.7"
  }
 },
 "nbformat": 4,
 "nbformat_minor": 5
}
