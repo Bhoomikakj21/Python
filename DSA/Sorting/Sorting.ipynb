{
 "cells": [
  {
   "cell_type": "markdown",
   "metadata": {},
   "source": [
    "1. Bubble Sort (O(n²))\n",
    "    \n",
    "    Repeatedly swaps adjacent elements if they are in the wrong order"
   ]
  },
  {
   "cell_type": "code",
   "execution_count": 17,
   "metadata": {},
   "outputs": [],
   "source": [
    "def bubble_sort(arr):\n",
    "    n = len(arr)\n",
    "    for i in range(n):\n",
    "        for j in range(n-i-1):\n",
    "            if arr[j]>arr[j+1]:\n",
    "                arr[j],arr[j+1] = arr[j+1],arr[j]\n",
    "    \n",
    "    return arr"
   ]
  },
  {
   "cell_type": "markdown",
   "metadata": {},
   "source": [
    "2. Selection Sort (O(n²))\n",
    "    \n",
    "    Finds the minimum element and places it in the correct position.\n"
   ]
  },
  {
   "cell_type": "code",
   "execution_count": 18,
   "metadata": {},
   "outputs": [],
   "source": [
    "def selection_sort(arr):\n",
    "    n = len(arr)\n",
    "    for i in range(n):\n",
    "        cmin = arr[i]\n",
    "        ind = i\n",
    "        for j in range(i+1,n):\n",
    "            if arr[j]<cmin:\n",
    "                cmin = arr[j]\n",
    "                ind = j\n",
    "        \n",
    "        arr[i],arr[ind] = arr[ind],arr[i]\n",
    "    \n",
    "    return arr"
   ]
  },
  {
   "cell_type": "markdown",
   "metadata": {},
   "source": [
    "3. Insertion Sort (O(n²))\n",
    "\n",
    "    devide into sorted and unsorted, swap if finds smaller elements\n"
   ]
  },
  {
   "cell_type": "code",
   "execution_count": 19,
   "metadata": {},
   "outputs": [],
   "source": [
    "def insertion_sort(arr):\n",
    "    n = len(arr)\n",
    "    for i in range(1,n):\n",
    "        key = arr[i]\n",
    "        j = i-1\n",
    "        while j>=0 and arr[j]>key:\n",
    "            arr[j+1]=arr[j]\n",
    "            j-=1\n",
    "        arr[j+1] = key \n",
    "\n",
    "    return arr"
   ]
  },
  {
   "cell_type": "markdown",
   "metadata": {},
   "source": [
    "4. Merge Sort (O(n log n))\n",
    "    \n",
    "    Divides the array into halves, sorts them, and merges them back."
   ]
  },
  {
   "cell_type": "code",
   "execution_count": 20,
   "metadata": {},
   "outputs": [],
   "source": [
    "def merge_sort(arr):\n",
    "    if len(arr) > 1:\n",
    "        mid = len(arr) // 2\n",
    "        left = arr[:mid]\n",
    "        right = arr[mid:]\n",
    "\n",
    "        merge_sort(left)\n",
    "        merge_sort(right)\n",
    "\n",
    "        i = j = k = 0\n",
    "        while i < len(left) and j < len(right):\n",
    "            if left[i] < right[j]:\n",
    "                arr[k] = left[i]\n",
    "                i += 1\n",
    "            else:\n",
    "                arr[k] = right[j]\n",
    "                j += 1\n",
    "            k += 1\n",
    "\n",
    "        while i < len(left):\n",
    "            arr[k] = left[i]\n",
    "            i += 1\n",
    "            k += 1\n",
    "\n",
    "        while j < len(right):\n",
    "            arr[k] = right[j]\n",
    "            j += 1\n",
    "            k += 1\n",
    "\n",
    "    return arr"
   ]
  },
  {
   "cell_type": "markdown",
   "metadata": {},
   "source": [
    "Quick Sort (O(n log n) average, O(n²) worst) Uses a pivot to partition the array."
   ]
  },
  {
   "cell_type": "code",
   "execution_count": 21,
   "metadata": {},
   "outputs": [],
   "source": [
    "def quick_sort(lst):\n",
    "    if len(lst) <= 1:\n",
    "        return lst\n",
    "    pivot_elem = lst[len(lst) // 2]\n",
    "    smaller = [num for num in lst if num < pivot_elem]\n",
    "    equal = [num for num in lst if num == pivot_elem]\n",
    "    larger = [num for num in lst if num > pivot_elem]\n",
    "    return quick_sort(smaller) + equal + quick_sort(larger)"
   ]
  },
  {
   "cell_type": "markdown",
   "metadata": {},
   "source": [
    "Heap Sort (O(n log n)) – Uses a binary heap to sort."
   ]
  },
  {
   "cell_type": "code",
   "execution_count": 33,
   "metadata": {},
   "outputs": [],
   "source": [
    "def heapify(arr, n, root_index):\n",
    "    largest = root_index\n",
    "    left_child_index = 2 * root_index + 1\n",
    "    right_child_index = 2 * root_index + 2\n",
    "\n",
    "    if left_child_index < n and arr[left_child_index] > arr[largest]:\n",
    "        largest = left_child_index\n",
    "\n",
    "    if right_child_index < n and arr[right_child_index] > arr[largest]:\n",
    "        largest = right_child_index\n",
    "\n",
    "    if largest != root_index:\n",
    "        arr[root_index], arr[largest] = arr[largest], arr[root_index]\n",
    "        heapify(arr, n, largest)\n",
    "\n",
    "def heap_sort(arr):\n",
    "    n = len(arr)\n",
    "\n",
    "    for i in range(n // 2 - 1, -1, -1):\n",
    "        heapify(arr, n, i)\n",
    "\n",
    "    for i in range(n - 1, 0, -1):\n",
    "        arr[i], arr[0] = arr[0], arr[i]\n",
    "        heapify(arr, i, 0)\n",
    "\n",
    "    return arr\n",
    "\n"
   ]
  },
  {
   "cell_type": "code",
   "execution_count": 34,
   "metadata": {},
   "outputs": [
    {
     "name": "stdout",
     "output_type": "stream",
     "text": [
      "bubble sort: [11, 12, 22, 25, 64]\n",
      "selection sort: [11, 12, 22, 25, 64]\n",
      "insertion sort: [11, 12, 22, 25, 64]\n",
      "merge sort: [11, 12, 22, 25, 64]\n",
      "quick sort: [11, 12, 22, 25, 64]\n",
      "heap sort: [11, 12, 22, 25, 64]\n"
     ]
    }
   ],
   "source": [
    "arr = [64, 25, 12, 22, 11]\n",
    "print(\"bubble sort:\",bubble_sort(arr))\n",
    "print(\"selection sort:\",selection_sort(arr))\n",
    "print(\"insertion sort:\",insertion_sort(arr))\n",
    "print('merge sort:',merge_sort(arr))\n",
    "print('quick sort:',quick_sort(arr))\n",
    "print('heap sort:',heap_sort(arr))"
   ]
  }
 ],
 "metadata": {
  "kernelspec": {
   "display_name": "Python 3",
   "language": "python",
   "name": "python3"
  },
  "language_info": {
   "codemirror_mode": {
    "name": "ipython",
    "version": 3
   },
   "file_extension": ".py",
   "mimetype": "text/x-python",
   "name": "python",
   "nbconvert_exporter": "python",
   "pygments_lexer": "ipython3",
   "version": "3.13.0"
  }
 },
 "nbformat": 4,
 "nbformat_minor": 2
}
